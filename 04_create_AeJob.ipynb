{
 "cells": [
  {
   "cell_type": "code",
   "metadata": {
    "ExecuteTime": {
     "end_time": "2024-10-12T13:41:14.316979Z",
     "start_time": "2024-10-12T13:41:14.312588Z"
    }
   },
   "source": [
    "import json\n",
    "import os\n",
    "import shutil\n",
    "\n",
    "DATASET_1 = 'Data_1'\n",
    "DATASET_2 = 'Data_2'\n",
    "\n",
    "CURRENT_DATASET = DATASET_2\n",
    "\n",
    "ITEM_CAP = 20\n",
    "\n",
    "PATH = './Data/' + CURRENT_DATASET\n",
    "INPUT_PATH = PATH + '/1_AeULDs'\n",
    "OUTPUT_PATH = PATH + '/2_AeJobs'"
   ],
   "outputs": [],
   "execution_count": 19
  },
  {
   "cell_type": "code",
   "metadata": {
    "ExecuteTime": {
     "end_time": "2024-10-12T13:41:14.503014Z",
     "start_time": "2024-10-12T13:41:14.498575Z"
    }
   },
   "source": [
    "def readJson(filePathImport):\n",
    "    #Read file in\n",
    "    with open(filePathImport) as json_file:\n",
    "        job_json = json.load(json_file)\n",
    "        return job_json"
   ],
   "outputs": [],
   "execution_count": 20
  },
  {
   "cell_type": "code",
   "metadata": {
    "ExecuteTime": {
     "end_time": "2024-10-12T13:41:14.985534Z",
     "start_time": "2024-10-12T13:41:14.981620Z"
    }
   },
   "source": [
    "def writeJson(filePathExport, jsonFile):\n",
    "    with open(filePathExport, 'w', encoding='utf-8') as f:\n",
    "        json.dump(jsonFile, f, ensure_ascii=False, indent=4)"
   ],
   "outputs": [],
   "execution_count": 21
  },
  {
   "cell_type": "code",
   "metadata": {
    "ExecuteTime": {
     "end_time": "2024-10-12T13:41:15.251008Z",
     "start_time": "2024-10-12T13:41:15.246180Z"
    }
   },
   "source": [
    "def createOutputFolderIfNotExists(path):\n",
    "    isExist = os.path.exists(path)\n",
    "    if isExist:\n",
    "        shutil.rmtree(path)\n",
    "        os.makedirs(path)\n",
    "    if not isExist:\n",
    "       # Create a new directory because it does not exist\n",
    "       os.makedirs(path)\n",
    "    print(\"The new directory is created!\")"
   ],
   "outputs": [],
   "execution_count": 22
  },
  {
   "metadata": {
    "ExecuteTime": {
     "end_time": "2024-10-12T13:41:15.769663Z",
     "start_time": "2024-10-12T13:41:15.764628Z"
    }
   },
   "cell_type": "code",
   "source": [
    "def cap_items(uld):\n",
    "    uld[\"placedItems\"] = uld[\"placedItems\"][:ITEM_CAP]\n",
    "    return uld   "
   ],
   "outputs": [],
   "execution_count": 23
  },
  {
   "cell_type": "code",
   "metadata": {
    "ExecuteTime": {
     "end_time": "2024-10-12T13:41:16.107899Z",
     "start_time": "2024-10-12T13:41:16.101858Z"
    }
   },
   "source": [
    "def createAeJob(filePath, assesmentCriteria, scenario):\n",
    "    \n",
    "    input_path_full = INPUT_PATH + \"/\" + scenario + '/' + filePath\n",
    "    output_path_full = OUTPUT_PATH + '/' + scenario + '/' + CURRENT_DATASET + \"_\" + scenario + \"_\" + filePath\n",
    "    \n",
    "    try:\n",
    "        uld = readJson(input_path_full)\n",
    "    except:\n",
    "        print(\"Could not read file! \" + input_path_full)\n",
    "        return\n",
    "    \n",
    "    # cap items at ITEM_CAP\n",
    "    uld = cap_items(uld)\n",
    "    \n",
    "    \n",
    "    aeJob = {\n",
    "        'ulds':[uld],\n",
    "        'assessmentCriteria':assesmentCriteria,\n",
    "        'label': CURRENT_DATASET + \"_\" + scenario + \"_\" + filePath\n",
    "    }\n",
    "    \n",
    "    writeJson(output_path_full, aeJob)"
   ],
   "outputs": [],
   "execution_count": 24
  },
  {
   "cell_type": "code",
   "metadata": {
    "ExecuteTime": {
     "end_time": "2024-10-12T13:41:16.734344Z",
     "start_time": "2024-10-12T13:41:16.730679Z"
    }
   },
   "source": [
    "from tqdm import tqdm\n",
    "\n",
    "def makeJob(scenario):\n",
    "    assesmentCriteria = readJson(\"./01_masterdata/2_approaches/AssesmentCriteria.json\")\n",
    "    createOutputFolderIfNotExists(OUTPUT_PATH + \"/\" + scenario)\n",
    "    \n",
    "    for f in tqdm(os.listdir(INPUT_PATH + \"/\" + scenario)):\n",
    "        createAeJob(f, assesmentCriteria, scenario)"
   ],
   "outputs": [],
   "execution_count": 25
  },
  {
   "cell_type": "code",
   "metadata": {
    "ExecuteTime": {
     "end_time": "2024-10-12T13:41:33.081553Z",
     "start_time": "2024-10-12T13:41:17.070381Z"
    }
   },
   "source": [
    "makeJob('Ulds_scenario_1')"
   ],
   "outputs": [
    {
     "name": "stdout",
     "output_type": "stream",
     "text": [
      "The new directory is created!\n"
     ]
    },
    {
     "name": "stderr",
     "output_type": "stream",
     "text": [
      "100%|██████████| 9689/9689 [00:15<00:00, 606.04it/s]\n"
     ]
    }
   ],
   "execution_count": 26
  },
  {
   "cell_type": "code",
   "metadata": {
    "ExecuteTime": {
     "end_time": "2024-10-12T13:41:47.300381Z",
     "start_time": "2024-10-12T13:41:33.085020Z"
    }
   },
   "source": [
    "makeJob('Ulds_scenario_2a')"
   ],
   "outputs": [
    {
     "name": "stdout",
     "output_type": "stream",
     "text": [
      "The new directory is created!\n"
     ]
    },
    {
     "name": "stderr",
     "output_type": "stream",
     "text": [
      "100%|██████████| 9689/9689 [00:14<00:00, 684.48it/s]\n"
     ]
    }
   ],
   "execution_count": 27
  },
  {
   "cell_type": "code",
   "metadata": {
    "ExecuteTime": {
     "end_time": "2024-10-12T13:42:02.812Z",
     "start_time": "2024-10-12T13:41:47.302496Z"
    }
   },
   "source": [
    "makeJob('Ulds_scenario_2b')"
   ],
   "outputs": [
    {
     "name": "stdout",
     "output_type": "stream",
     "text": [
      "The new directory is created!\n"
     ]
    },
    {
     "name": "stderr",
     "output_type": "stream",
     "text": [
      "100%|██████████| 9689/9689 [00:15<00:00, 627.00it/s]\n"
     ]
    }
   ],
   "execution_count": 28
  },
  {
   "cell_type": "code",
   "metadata": {
    "ExecuteTime": {
     "end_time": "2024-08-14T11:59:37.052822Z",
     "start_time": "2024-08-14T11:59:37.047538Z"
    }
   },
   "source": [],
   "outputs": [],
   "execution_count": 77
  }
 ],
 "metadata": {
  "kernelspec": {
   "display_name": "Python 3 (ipykernel)",
   "language": "python",
   "name": "python3"
  },
  "language_info": {
   "codemirror_mode": {
    "name": "ipython",
    "version": 3
   },
   "file_extension": ".py",
   "mimetype": "text/x-python",
   "name": "python",
   "nbconvert_exporter": "python",
   "pygments_lexer": "ipython3",
   "version": "3.9.16"
  }
 },
 "nbformat": 4,
 "nbformat_minor": 4
}
